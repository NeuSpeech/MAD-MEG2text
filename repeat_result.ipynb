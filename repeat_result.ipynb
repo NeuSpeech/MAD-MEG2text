{
 "cells": [
  {
   "cell_type": "code",
   "id": "initial_id",
   "metadata": {
    "collapsed": true,
    "ExecuteTime": {
     "end_time": "2024-11-13T14:07:45.775663Z",
     "start_time": "2024-11-13T14:07:37.938315Z"
    }
   },
   "source": [
    "import torchmetrics\n",
    "\n",
    "tm_bleu=torchmetrics.text.BLEUScore(1)\n",
    "import re\n",
    "import json\n",
    "\n",
    "def preprocess_text(text):\n",
    "    text = re.sub(r'[^A-Za-z0-9\\s]', '', text).strip()\n",
    "    return text\n",
    "\n",
    "def convert_lower_text(text):\n",
    "    if isinstance(text, str):\n",
    "        return text.lower()\n",
    "    elif isinstance(text, list):\n",
    "        result_text = []\n",
    "        for t in text:\n",
    "            result_text.append(t.lower())\n",
    "        return result_text\n",
    "    else:\n",
    "        raise Exception(f'不支持该类型{type(text)}')\n",
    "\n",
    "meg=[]\n",
    "with open('final_result.jsonl', 'r') as file:\n",
    "    for line in file:\n",
    "        # 각 줄을 JSON으로 파싱하고 리스트에 추가합니다.\n",
    "        json_object = json.loads(line.strip())\n",
    "        meg.append(json_object)\n",
    "meg_hyp = [preprocess_text(convert_lower_text(dt['pred'])) for dt in meg]\n",
    "meg_ref = [[preprocess_text(convert_lower_text(dt['label']))] for dt in meg]\n",
    "tm_bleu_score = tm_bleu(meg_hyp, meg_ref, )\n",
    "print(tm_bleu_score)"
   ],
   "outputs": [
    {
     "name": "stdout",
     "output_type": "stream",
     "text": [
      "tensor(0.0694)\n"
     ]
    }
   ],
   "execution_count": 4
  },
  {
   "metadata": {
    "ExecuteTime": {
     "end_time": "2024-11-13T14:09:57.190239Z",
     "start_time": "2024-11-13T14:09:56.211849Z"
    }
   },
   "cell_type": "code",
   "source": [
    "from metrics.nltkbleu_sentence import corpus_bleu\n",
    "import json \n",
    "meg=[]\n",
    "with open('final_result.jsonl', 'r') as file:\n",
    "    for line in file:\n",
    "        # 각 줄을 JSON으로 파싱하고 리스트에 추가합니다.\n",
    "        json_object = json.loads(line.strip())\n",
    "        meg.append(json_object)\n",
    "meg_hyp = [preprocess_text(convert_lower_text(dt['pred'])).split() for dt in meg]\n",
    "meg_ref = [[preprocess_text(convert_lower_text(dt['label'])).split()] for dt in meg]\n",
    "nltk_bleu = corpus_bleu(meg_ref, meg_hyp, weights = (1.0,))\n",
    "# pay attention here, I think the final result we report should be based on torchmetrics\n",
    "# since we changed one line code in nltk to avoid divide by zero, I didn't know it when we report that in the paper. \n",
    "print(nltk_bleu)"
   ],
   "id": "fb4b553dc08482e",
   "outputs": [
    {
     "name": "stdout",
     "output_type": "stream",
     "text": [
      "0.10490123098944643\n"
     ]
    }
   ],
   "execution_count": 5
  }
 ],
 "metadata": {
  "kernelspec": {
   "display_name": "Python 3",
   "language": "python",
   "name": "python3"
  },
  "language_info": {
   "codemirror_mode": {
    "name": "ipython",
    "version": 2
   },
   "file_extension": ".py",
   "mimetype": "text/x-python",
   "name": "python",
   "nbconvert_exporter": "python",
   "pygments_lexer": "ipython2",
   "version": "2.7.6"
  }
 },
 "nbformat": 4,
 "nbformat_minor": 5
}
