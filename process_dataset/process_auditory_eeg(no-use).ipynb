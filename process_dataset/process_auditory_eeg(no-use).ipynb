{
 "cells": [
  {
   "cell_type": "code",
   "execution_count": null,
   "id": "initial_id",
   "metadata": {
    "collapsed": true
   },
   "outputs": [],
   "source": [
    "%cd ~\n",
    "!pwd"
   ]
  },
  {
   "cell_type": "code",
   "execution_count": null,
   "outputs": [],
   "source": [
    "import os \n",
    "def makedirs(output_dir):\n",
    "    os.makedirs(os.path.dirname(output_dir), exist_ok=True)\n",
    "    return output_dir"
   ],
   "metadata": {
    "collapsed": false
   },
   "id": "d85c809731a3cef9"
  },
  {
   "cell_type": "code",
   "execution_count": null,
   "outputs": [],
   "source": [
    "import gzip\n",
    "import numpy as np\n",
    "import soundfile as sf \n",
    "import librosa\n",
    "target_sr=16000\n",
    "\n",
    "def convert_gz_to_wav(input_file, output_file):\n",
    "    with gzip.open(input_file, 'rb') as f_in:\n",
    "        npz_data = np.load(f_in)\n",
    "        print(npz_data.files)\n",
    "        audio=npz_data['audio']\n",
    "        fs=npz_data['fs']\n",
    "        resampled_audio=librosa.resample(audio,orig_sr=fs,target_sr=target_sr)\n",
    "        sf.write(makedirs(output_file),resampled_audio,samplerate=target_sr)\n",
    "\n",
    "# 指定输入和输出文件名\n",
    "gz_files=[i for i in os.listdir('datasets/auditory_eeg_decoding/lbollens/sparrkulee/stimuli/eeg/') if i[-7:]=='.npz.gz']\n",
    "for input_file in gz_files:\n",
    "    if input_file.startswith(['audiobook','podcast']):\n",
    "        if 'mel' in input_file:\n",
    "            continue\n",
    "        if input_file.split('.')[0][-1].isdigit():\n",
    "            input_file = f'datasets/auditory_eeg_decoding/lbollens/sparrkulee/stimuli/eeg/{input_file}'\n",
    "            output_file = input_file.replace('npz.gz','wav').replace('stimuli','processed_audio')\n",
    "            print(output_file)\n",
    "            convert_gz_to_wav(input_file,output_file)\n",
    "# with gzip.open(input_file, 'rb') as f_in:\n",
    "#     npz_data = np.load(f_in)\n",
    "#     print(npz_data['audio'].shape)\n",
    "# 解压缩 .npz.gz 文件为 .npz 文件\n",
    "# extract_npz_gz(input_file, output_file)"
   ],
   "metadata": {
    "collapsed": false
   },
   "id": "83734dfc8c711dd4"
  },
  {
   "cell_type": "code",
   "execution_count": null,
   "outputs": [],
   "source": [
    "# 开始转录\n",
    "import whisper\n",
    "import tqdm\n",
    "import json\n",
    "model = whisper.load_model('large')\n",
    "wav_files=[i for i in os.listdir(output_dir) if i[-4:]=='.wav']\n",
    "# 从音频转写到文本。还需要把音频转为16kHz，写入json文件\n",
    "for wav_path in tqdm.tqdm(wav_files[:2]):\n",
    "    result = model.transcribe(\n",
    "        wav_path, language=\"Dutch\", word_timestamps=True,\n",
    "        without_timestamps=False)\n",
    "    "
   ],
   "metadata": {
    "collapsed": false
   },
   "id": "dfe75a59d3d9a35d"
  },
  {
   "cell_type": "code",
   "execution_count": null,
   "outputs": [],
   "source": [
    "input_file='datasets/auditory_eeg_decoding/lbollens/sparrkulee/stimuli/eeg/audiobook_5_1.npz.gz'\n",
    "output_file='datasets/auditory_eeg_decoding/lbollens/sparrkulee/stimuli/processed_audio/tmp.wav'\n",
    "with gzip.open(input_file, 'rb') as f_in:\n",
    "    npz_data = np.load(f_in)\n",
    "    print(npz_data.files)\n",
    "    audio=npz_data['audio']\n",
    "    fs=npz_data['fs']\n",
    "    resampled_audio=librosa.resample(audio,orig_sr=fs,target_sr=target_sr)\n",
    "    sf.write(makedirs(output_file),resampled_audio,samplerate=target_sr)\n",
    "from IPython.display import Audio,display\n",
    "display(Audio(output_file))"
   ],
   "metadata": {
    "collapsed": false,
    "is_executing": true
   },
   "id": "26d26ad42db526bc"
  },
  {
   "cell_type": "code",
   "execution_count": null,
   "outputs": [],
   "source": [
    "!jupyter notebook stop\n"
   ],
   "metadata": {
    "collapsed": false
   },
   "id": "c21706c1192f266"
  },
  {
   "cell_type": "code",
   "execution_count": null,
   "outputs": [],
   "source": [
    "15*60+6"
   ],
   "metadata": {
    "collapsed": false
   },
   "id": "4ef2be236dbf4d27"
  },
  {
   "cell_type": "code",
   "execution_count": null,
   "outputs": [],
   "source": [],
   "metadata": {
    "collapsed": false
   },
   "id": "85ac0e16988aa5ca"
  },
  {
   "cell_type": "code",
   "execution_count": null,
   "outputs": [],
   "source": [
    "import torch\n",
    "from transformers import pipeline\n",
    "\n",
    "device = \"cuda:0\" if torch.cuda.is_available() else \"cpu\"\n",
    "\n",
    "pipe = pipeline(\n",
    "  \"automatic-speech-recognition\",\n",
    "  model=\"openai/whisper-base\",\n",
    "  chunk_length_s=30,\n",
    "  device=device\n",
    ")\n",
    "# huggingface-cli download --resume-download openai/whisper-large-v3 --local-dir ~/transformers_models/openai-whisper-large-v3"
   ],
   "metadata": {
    "collapsed": false
   },
   "id": "c387f6465efa45d8"
  },
  {
   "cell_type": "code",
   "execution_count": null,
   "outputs": [],
   "source": [
    "from IPython.display import Audio,display\n",
    "display(Audio('datasets/auditory_eeg_decoding/lbollens/sparrkulee/processed_audio/eeg/audiobook_13_2.wav'))"
   ],
   "metadata": {
    "collapsed": false
   },
   "id": "8af00e03fa60ec83"
  },
  {
   "cell_type": "code",
   "execution_count": null,
   "outputs": [],
   "source": [
    "\n",
    "from transformers import WhisperProcessor\n",
    "\n",
    "# load model and processor\n",
    "processor = WhisperProcessor.from_pretrained(\"openai/whisper-large-v3\")\n",
    "forced_decoder_ids = processor.get_decoder_prompt_ids(language=\"dutch\", task=\"transcribe\")\n",
    "sample,sr = sf.read('datasets/auditory_eeg_decoding/lbollens/sparrkulee/processed_audio/eeg/audiobook_13_2.wav')\n",
    "generate_kwargs= {\n",
    "    \"max_length\":20,\n",
    "    \"do_sample\":False,\n",
    "    \"num_beams\":5,\n",
    "    \"repetition_penalty\" :5.0,\n",
    "    \"forced_decoder_ids\":forced_decoder_ids\n",
    "}\n",
    "# we can also return timestamps for the predictions\n",
    "prediction = pipe(sample, batch_size=8, return_timestamps=True,\n",
    "                  generate_kwargs=generate_kwargs\n",
    "                  )[\"chunks\"]\n",
    "print(prediction)"
   ],
   "metadata": {
    "collapsed": false
   },
   "id": "768cdb05c5686589"
  },
  {
   "cell_type": "code",
   "execution_count": null,
   "outputs": [],
   "source": [
    "# 开始转录\n",
    "import whisper\n",
    "import tqdm\n",
    "import json\n",
    "model = whisper.load_model('large')\n",
    "wav_files=[i for i in os.listdir('datasets/auditory_eeg_decoding/lbollens/sparrkulee/processed_audio/eeg') if i[-4:]=='.wav']\n",
    "# 从音频转写到文本。还需要把音频转为16kHz，写入json文件\n",
    "for wav_path in tqdm.tqdm(wav_files[:2]):\n",
    "    result = model.transcribe(\n",
    "        wav_path, language=\"Dutch\", word_timestamps=True,\n",
    "        without_timestamps=False)\n",
    "\n",
    "    # 写入文本\n",
    "    transcribe_path = f\"datasets/auditory_eeg_decoding/lbollens/sparrkulee/processed_audio/transcribe/{os.path.basename(wav_path)[:-4]}.json\"\n",
    "    transcribe_path = makedirs(transcribe_path)\n",
    "    with open(transcribe_path, 'w') as write_f:\n",
    "        json.dump(result, write_f, indent=4, ensure_ascii=False)"
   ],
   "metadata": {
    "collapsed": false
   },
   "id": "a273f87185b83c7"
  },
  {
   "cell_type": "code",
   "execution_count": null,
   "outputs": [],
   "source": [
    "\n",
    "# 原始格式是.npz.gz,我们现在先把这个音频文件变为npz，再变到16kHz wav,方便whisper处理。\n",
    "a=np.load('datasets/auditory_eeg_decoding/lbollens/sparrkulee/stimuli/eeg/audiobook_1_1_shifted.npz')\n",
    "print(a.files)\n",
    "print(a['audio'].shape,a['fs'])"
   ],
   "metadata": {
    "collapsed": false
   },
   "id": "acf12f6939de7e83"
  },
  {
   "cell_type": "code",
   "execution_count": null,
   "outputs": [],
   "source": [],
   "metadata": {
    "collapsed": false
   },
   "id": "f4f9fae93b12668b"
  }
 ],
 "metadata": {
  "kernelspec": {
   "name": "brainimagick",
   "language": "python",
   "display_name": "brainimagick"
  },
  "language_info": {
   "codemirror_mode": {
    "name": "ipython",
    "version": 2
   },
   "file_extension": ".py",
   "mimetype": "text/x-python",
   "name": "python",
   "nbconvert_exporter": "python",
   "pygments_lexer": "ipython2",
   "version": "2.7.6"
  }
 },
 "nbformat": 4,
 "nbformat_minor": 5
}
